{
 "cells": [
  {
   "cell_type": "markdown",
   "id": "1a7bb18d",
   "metadata": {},
   "source": [
    "1.To what does a relative path refer ?"
   ]
  },
  {
   "cell_type": "code",
   "execution_count": null,
   "id": "910b7c29",
   "metadata": {},
   "outputs": [],
   "source": [
    "=>The relative path is the path to some file with respect to your current working directory (PWD).\n",
    "PWD + relative path = absolute path"
   ]
  },
  {
   "cell_type": "markdown",
   "id": "bacac057",
   "metadata": {},
   "source": [
    "2.The relative path is the path to some file with respect to your current working directory (PWD)."
   ]
  },
  {
   "cell_type": "code",
   "execution_count": null,
   "id": "a18fbcea",
   "metadata": {},
   "outputs": [],
   "source": [
    "=>In Windows based systems absolute path starts with C:"
   ]
  },
  {
   "cell_type": "markdown",
   "id": "609f2c32",
   "metadata": {},
   "source": [
    "3.What does the functions os.getcwd() and os.chdir() do ?"
   ]
  },
  {
   "cell_type": "code",
   "execution_count": 1,
   "id": "4e3c3ff2",
   "metadata": {},
   "outputs": [],
   "source": [
    "#=>os.getcwd() method tells us the location of current working directory (CWD).\n",
    "#Whereas os.chdir() method in Python used to change the current working directory to specified path.\n",
    "import os"
   ]
  },
  {
   "cell_type": "code",
   "execution_count": 2,
   "id": "81444891",
   "metadata": {},
   "outputs": [
    {
     "name": "stdout",
     "output_type": "stream",
     "text": [
      "C:\\Users\\SHYAMSUNDAR KARMAKAR\n"
     ]
    }
   ],
   "source": [
    "print(os.getcwd())"
   ]
  },
  {
   "cell_type": "markdown",
   "id": "0697b68f",
   "metadata": {},
   "source": [
    "4.What are . and .. folders ?"
   ]
  },
  {
   "cell_type": "code",
   "execution_count": null,
   "id": "2ee109e3",
   "metadata": {},
   "outputs": [],
   "source": [
    "=>(.) Represents the Current Directory Whereas (..) Represents the Parent Directory of the Current Directory."
   ]
  },
  {
   "cell_type": "markdown",
   "id": "432c875e",
   "metadata": {},
   "source": [
    "5.In C:\\bacon\\eggs\\spam.txt which part is the dir name and which part is the base name ?"
   ]
  },
  {
   "cell_type": "code",
   "execution_count": null,
   "id": "cc76441a",
   "metadata": {},
   "outputs": [],
   "source": [
    "=> C:\\bacon\\eggs : dir name\n",
    "    spam.txt : base name"
   ]
  },
  {
   "cell_type": "code",
   "execution_count": 3,
   "id": "47f2e304",
   "metadata": {},
   "outputs": [
    {
     "name": "stdout",
     "output_type": "stream",
     "text": [
      "C:\\bacon\\eggs\n",
      "spam.txt\n"
     ]
    }
   ],
   "source": [
    "import os\n",
    "path=r'C:\\bacon\\eggs\\spam.txt'\n",
    "dir_name=os.path.dirname(path)\n",
    "base_name=os.path.basename(path)\n",
    "print(dir_name)\n",
    "print(base_name)"
   ]
  },
  {
   "cell_type": "markdown",
   "id": "6adb9d2f",
   "metadata": {},
   "source": [
    "6.What are the three mode arguments that can be passed to the open() function ?"
   ]
  },
  {
   "cell_type": "code",
   "execution_count": null,
   "id": "3fcbdd9b",
   "metadata": {},
   "outputs": [],
   "source": [
    "=>A file can be Accessed in python using open() function.\n",
    "open function takes two arguments filename and mode of operation (optional). \n",
    "if mode is not provided the default mode of opening is read mode.\n",
    "So, the syntax being: open(filename, mode)\n",
    "mode: 'r'~ read mode\n",
    "      'w'~ write mode\n",
    "      'r+' ~ read & write mode both.\n",
    "      'a+' ~ append & read mode both.\n",
    "      "
   ]
  },
  {
   "cell_type": "markdown",
   "id": "3dcd05a4",
   "metadata": {},
   "source": [
    "7.What happens if an existing file is opened in write mode ?"
   ]
  },
  {
   "cell_type": "markdown",
   "id": "935ae1fe",
   "metadata": {},
   "source": [
    "8.How do you tell the difference between read() and readlines() ?"
   ]
  },
  {
   "cell_type": "code",
   "execution_count": null,
   "id": "60003e88",
   "metadata": {},
   "outputs": [],
   "source": [
    "=> read() will read the whole file at once and then print out the first characters\n",
    "readline() that will only reads a single line of the file and print out only the first characters "
   ]
  },
  {
   "cell_type": "markdown",
   "id": "a75325dd",
   "metadata": {},
   "source": [
    "9.What data structure does a shelf value resemble ?"
   ]
  }
 ],
 "metadata": {
  "kernelspec": {
   "display_name": "Python 3 (ipykernel)",
   "language": "python",
   "name": "python3"
  },
  "language_info": {
   "codemirror_mode": {
    "name": "ipython",
    "version": 3
   },
   "file_extension": ".py",
   "mimetype": "text/x-python",
   "name": "python",
   "nbconvert_exporter": "python",
   "pygments_lexer": "ipython3",
   "version": "3.10.9"
  }
 },
 "nbformat": 4,
 "nbformat_minor": 5
}
